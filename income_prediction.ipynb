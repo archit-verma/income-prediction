{
 "cells": [
  {
   "cell_type": "markdown",
   "metadata": {},
   "source": [
    "# Assignment 2: Income Prediction based on U.S. Census data"
   ]
  },
  {
   "cell_type": "markdown",
   "metadata": {},
   "source": [
    "Student Name:Archit Verma\n",
    "\n",
    "Student ID:1196181"
   ]
  },
  {
   "cell_type": "markdown",
   "metadata": {},
   "source": [
    "# General Info\n",
    "\n",
    "<b>Due date</b>: Friday, 16 Apr 2021 5pm\n",
    "\n",
    "<b>Submission method</b>: Canvas submission\n",
    "\n",
    "<b>Submission materials</b>: completed copy of this iPython notebook\n",
    "\n",
    "<b>Late submissions</b>: -10% per day (both week and weekend days counted)\n",
    "\n",
    "<b>Marks</b>: 15% of mark for class \n",
    "\n",
    "<b>Materials</b>: See [Using Jupyter Notebook and Python page](https://canvas.lms.unimelb.edu.au/courses/105477/pages/python-and-jupyter-notebooks?module_item_id=2613813) on Canvas (under Modules>Resources) for information on the basic setup required for this class, including an iPython notebook viewer and some handy python packages including Numpy, Scipy, Matplotlib, Scikit-Learn, and Gensim. You can use any Python built-in packages, but do not use any other 3rd party packages (the packages listed above are all fine to use); if your iPython notebook doesn't run on the marker's machine, you will lose marks. <b> You should use Python 3</b>.  \n",
    "\n",
    "<b>Evaluation</b>: Your iPython notebook should run end-to-end without any errors in a reasonable amount of time, and you must follow all instructions provided below, including specific implementation requirements and instructions for what needs to be printed (please avoid printing output we don't ask for). You should edit the sections below where requested, but leave the rest of the code as is. You should leave the output from running your code in the iPython notebook you submit, to assist with marking. The amount each section is worth is given in parenthesis after the instructions. \n",
    "\n",
    "You should be careful to use Python built-in functions and operators when appropriate and pick descriptive variable names that adhere to <a href=\"https://www.python.org/dev/peps/pep-0008/\">Python style requirements</a>. If you think it might be unclear what you are doing, you should comment your code to help the marker make sense of it. While the main focus is on correctness of your methods, you will lose marks if your code is not understandable.\n",
    "\n",
    "<b>Updates</b>: Any major changes to the assignment will be announced via Canvas. Minor changes and clarifications will be announced on the discussion board; we recommend you check it regularly.\n",
    "\n",
    "<b>Academic misconduct</b>: For most people, collaboration will form a natural part of the undertaking of this homework, and we encourge you to discuss it in general terms with other students. However, this ultimately is still an individual task, and so reuse of code or other instances of clear influence will be considered cheating. We will be checking submissions for originality and will invoke the University’s <a href=\"http://academichonesty.unimelb.edu.au/policy.html\">Academic Misconduct policy</a> where inappropriate levels of collusion or plagiarism are deemed to have taken place.\n"
   ]
  },
  {
   "cell_type": "markdown",
   "metadata": {},
   "source": [
    "## Overview\n",
    "\n",
    "In this assignment, you will be working with the famous *Adult* a data set containing demographic and income data from the united states in 1994. The dataset provided for this assignment is derived from <a href=\"http://archive.ics.uci.edu/ml/datasets/Adult\">this</a> resource. The data set consists of about 48,000 individuals each characterized through a set of 14 attributes. Your task is to predict whether the individual earns up to \\\\$ 50,000 a year (<=50K) or more than \\\\$50,000 per year (>50K).\n",
    "\n",
    "The attributes are\n",
    "\n",
    "|ID|Feature Name| Feature Type | Feature Values|\n",
    "| :-| :-| :-| :-|\n",
    "|0|age| continuous| |\n",
    "|1|workclass| categorical | Private, Self-emp-not-inc, Self-emp-inc, Federal-gov, Local-gov, State-gov, ?|\n",
    "|2|fnlwgt| continuous| |\n",
    "|3|education|  categorical |Bachelors, Some-college, 11th, HS-grad, Prof-school, Assoc-acdm, Assoc-voc, 9th, 7th-8th, 12th, Masters, 1st-4th, 10th, Doctorate, 5th-6th, Preschool|\n",
    "|4|education-num| continuous| |\n",
    "|5|marital-status|  categorical |Married-civ-spouse, Divorced, Never-married, Separated, Widowed, Married-spouse-absent, Married-AF-spouse|\n",
    "|6|occupation|  categorical |Tech-support, Craft-repair, Other-service, Sales, Exec-managerial, Prof-specialty, Handlers-cleaners, Machine-op-inspct, Adm-clerical, Farming-fishing, Transport-moving, Priv-house-serv, Protective-serv, Armed-Forces, ?|\n",
    "|7|relationship|  categorical |Wife, Own-child, Husband, Not-in-family, Other-relative, Unmarried|\n",
    "|8|race|  categorical |White, Asian-Pac-Islander, Amer-Indian-Eskimo, Other, Black|\n",
    "|9|sex|  categorical |Female, Male|\n",
    "|10|capital-gain| continuous| |\n",
    "|11|capital-loss| continuous| |\n",
    "|12|hours-per-week| continuous| |\n",
    "|13|native-country|  categorical |United-States, Cambodia, England, Puerto-Rico, Canada, Germany, India, Japan, Greece, South, China, Cuba, Iran, Honduras, Philippines, Italy, Poland, Jamaica, Vietnam, Mexico, Portugal, Ireland, France, Dominican-Republic, Laos, Ecuador, Taiwan, Haiti, Columbia, Hungary, Guatemala, Nicaragua, Scotland, Thailand, Yugoslavia, El-Salvador, Trinadad&Tobago, Peru, Hong, ?|\n",
    "\n",
    "You can find out more about the individual attributes / values, and the origin of the data set in the <a href=\"https://archive.ics.uci.edu/ml/machine-learning-databases/adult/adult.names\"> data set description</a>  \n",
    "\n",
    "\n",
    "You will build a number of classifiers to predict the income class based on the attributes above.\n",
    "\n",
    "\n",
    "#### The following instructions hold for every question in the assignment\n",
    "- leave the order of instances intact, i.e., do not shuffle the data\n",
    "- do not change the names or types of variables provided by us in the code cells below\n",
    "- '?' denotes an unknown value, and you should treat it as just another value for its feature in all tasks below."
   ]
  },
  {
   "cell_type": "markdown",
   "metadata": {},
   "source": [
    "## Question 1: Loading and pre-processing the data (1 mark)\n",
    "\n",
    "You were provide two data files:\n",
    "\n",
    "**adult.train** contains about 32,000 training instances, one instance per line in comma-separated value (csv) format. Each line contains 14 fields. The first 13 fields correspond to the features listed above, the final field denotes the class label\n",
    "\n",
    "**adult.test** is formatted exactly like adult.train, and contains about 16,000 further instances for evaluation.\n"
   ]
  },
  {
   "cell_type": "markdown",
   "metadata": {},
   "source": [
    "### 1a Read the data [0.5 marks]\n",
    "\n",
    "First, you will read in the data and create traing features, training labels, test features and test labels. Do not apply any data transformations."
   ]
  },
  {
   "cell_type": "code",
   "execution_count": 36,
   "metadata": {},
   "outputs": [
    {
     "data": {
      "text/plain": [
       "(32525, 32525, 16262, 16262, 14, 14)"
      ]
     },
     "execution_count": 36,
     "metadata": {},
     "output_type": "execute_result"
    }
   ],
   "source": [
    "# load data\n",
    "\n",
    "\n",
    "data = open(\"adult.train\",'r').readlines()\n",
    "test_data = open(\"adult.test\",'r').readlines()\n",
    "\n",
    "x_train = []\n",
    "y_train = []\n",
    "x_test = []\n",
    "y_test = []\n",
    "\n",
    "############################\n",
    "## your code begins here\n",
    "############################\n",
    "\n",
    "for line in data:\n",
    "    atts = line.strip().split(\",\")\n",
    "    x_train.append(atts[:-1])\n",
    "    y_train.append(atts[-1].strip())\n",
    "\n",
    "for line in test_data:\n",
    "    atts = line.strip().split(\",\")\n",
    "    x_test.append(atts[:-1])\n",
    "    y_test.append(atts[-1].strip())\n",
    "\n",
    "\n",
    "############################\n",
    "## your code ends here\n",
    "############################\n",
    "\n",
    "len(x_train), len(y_train), len(x_test), len(y_test), len(x_train[0]), len(x_test[0])"
   ]
  },
  {
   "cell_type": "markdown",
   "metadata": {},
   "source": [
    "<b>For your testing:</b>"
   ]
  },
  {
   "cell_type": "code",
   "execution_count": 37,
   "metadata": {},
   "outputs": [],
   "source": [
    "assert len(x_train)==len(y_train)==32525\n",
    "assert len(x_train[0])==len(x_test[0])==14"
   ]
  },
  {
   "cell_type": "markdown",
   "metadata": {},
   "source": [
    "### 1b: Attribute Types [0.5 marks]\n",
    "\n",
    "You will create three feature representations, based on the different attribute types (categorical, numeric) in the original *Adult* data.\n",
    "\n",
    "**Your tasks**\n",
    "\n",
    "Denote with $I$ the number of training instances; $N$ the number of numeric features in the data set; and $v_f$ the number of possible values for feature $f$.\n",
    "\n",
    "1. Create a train data set with only numeric features `x_train_num` (size $(I\\times N)$); and equivaluently a test data set `x_test_num`\n",
    "2. Create a train data set with only categorical features *in a 1-hot representation* `x_train_1hot` (size $(I\\times\\sum_f v_f)$); and equivalently a test data set `x_test_1hot`\n",
    "3. Create a train data set with both numeric and 1-hot categorical features `x_train_full` (size $I \\times N+\\sum_f v_f$) where the first $N$ columns represent the numerical features and the remaining columns the categorical features; and equivalently a test data set `x_test_full`\n",
    "\n",
    "**Note:** You may use classes and functions from ```scikit-learn```.\n",
    "\n"
   ]
  },
  {
   "cell_type": "code",
   "execution_count": 38,
   "metadata": {},
   "outputs": [],
   "source": [
    "x_train_num = []\n",
    "x_test_num = []\n",
    "\n",
    "x_train_1hot = []\n",
    "x_test_1hot = []\n",
    "\n",
    "x_train_full = []\n",
    "x_test_full = []\n",
    "\n",
    "x_ord=[]\n",
    "x_ord1 = []\n",
    "\n",
    "################################\n",
    "### Your code begins here ######\n",
    "################################\n",
    "for x in x_train:\n",
    "    lis = [int(x[0]),int(x[2]),int(x[4]),int(x[10]),int(x[11]),int(x[12])]\n",
    "    hot = [x[1],x[3],x[5],x[6],x[7],x[8],x[9],x[13]]\n",
    "    x_train_num.append(lis)\n",
    "    x_ord.append(hot)\n",
    "for x in x_test:\n",
    "    lis = [int(x[0]),int(x[2]),int(x[4]),int(x[10]),int(x[11]),int(x[12])]\n",
    "    hot = [x[1],x[3],x[5],x[6],x[7],x[8],x[9],x[13]] \n",
    "    x_test_num.append(lis)\n",
    "    x_ord1.append(hot)\n",
    "\n",
    "\n",
    "\n",
    "from sklearn.preprocessing import OneHotEncoder\n",
    "ohe = OneHotEncoder()\n",
    "ohe1 = OneHotEncoder()\n",
    "ohe.fit(x_ord)\n",
    "ohe1.fit(x_ord1)\n",
    "x_train_1hot = ohe.transform(x_ord).toarray()\n",
    "x_test_1hot = ohe1.transform(x_ord1).toarray()\n",
    "\n",
    "for i in range(len(x_train)):\n",
    "    res_list = [y for x in [x_train_num[i], x_train_1hot[i]] for y in x]\n",
    "    x_train_full.append(res_list)\n",
    "\n",
    "for i in range(len(x_test)):\n",
    "    res_list = [y for x in [x_test_num[i], x_test_1hot[i]] for y in x]\n",
    "    x_test_full.append(res_list)\n",
    "\n",
    "################################\n",
    "### Your code ends here ########\n",
    "################################\n"
   ]
  },
  {
   "cell_type": "markdown",
   "metadata": {},
   "source": [
    "<b> For your testing</b>"
   ]
  },
  {
   "cell_type": "code",
   "execution_count": 39,
   "metadata": {},
   "outputs": [],
   "source": [
    "assert len(x_train_1hot[0])==98\n",
    "assert len(x_train_full[0])==104"
   ]
  },
  {
   "cell_type": "markdown",
   "metadata": {},
   "source": [
    "## Question 2: A 0-R baseline [0.5 marks]\n",
    "\n",
    "Implement a zero-r baseline, as introduced in the Evaluation lecture."
   ]
  },
  {
   "cell_type": "code",
   "execution_count": 40,
   "metadata": {},
   "outputs": [
    {
     "name": "stdout",
     "output_type": "stream",
     "text": [
      "The marority class is: <=50K\n"
     ]
    }
   ],
   "source": [
    "from collections import Counter\n",
    "\n",
    "majority_class = \"\"\n",
    "zero_r_predictions = []\n",
    "\n",
    "############################\n",
    "## your code begins here\n",
    "############################\n",
    "\n",
    "label_count = Counter(y_train)\n",
    "majority_class = label_count.most_common(1)[0][0]\n",
    "for i in range(len(y_test)):\n",
    "    zero_r_predictions.append(majority_class)\n",
    "\n",
    "############################\n",
    "## your code ends here\n",
    "############################\n",
    "\n",
    "print(f\"The marority class is: {majority_class}\")"
   ]
  },
  {
   "cell_type": "markdown",
   "metadata": {},
   "source": [
    "## Question 3: Feature selection [2 marks]\n",
    "\n",
    "In this question you will implement pointwise mutual information (PMI) for feature selection (Question 3a)\n",
    "\n",
    "In question 3a. you will use the implemented function to create a 1-R classifier based on the single 1-hot attribute  (i.e., categorical feature value) with highest PMI for class \">50K\". \n",
    "```\n",
    "argmax_a pmi(a=1,c=\">50K\")\n",
    "```\n",
    "In question 3b. you will apply your 1-R classifier to the test instances, and store your predicted labels in `one_r_predictions`.\n",
    "\n",
    "<b> You should implement PMI from scratch yourself. You may use native Python libraries like math or numpy to help you, but you may not use existing implementations of PMI.</b>\n",
    "\n"
   ]
  },
  {
   "cell_type": "markdown",
   "metadata": {},
   "source": [
    "### 3a. Implement PMI [1 mark]\n",
    "\n",
    "Implement a function to compute PMI.\n"
   ]
  },
  {
   "cell_type": "code",
   "execution_count": 41,
   "metadata": {},
   "outputs": [],
   "source": [
    "\n",
    "'''\n",
    "PMI: A function to compute the pointwise mutual information between \n",
    "all features in the data set and a target class of interest\n",
    "Input: - features for N input instances\n",
    "       - labels for N input instances\n",
    "       - target feature value (default=1)\n",
    "       - target class (fdefault='>50K')\n",
    "Output: a dictionary of the form {feature: ppmi} where each \n",
    "        feature is denoted by its ID (position in the 1-hot encoded representatoin)\n",
    "\n",
    "'''\n",
    "import math\n",
    "############################\n",
    "## your code begins here\n",
    "############################\n",
    "\n",
    "def calclog(a,b,c):\n",
    "    if a == 0 or b == 0 or c == 0:\n",
    "        return 0\n",
    "    else:\n",
    "        return math.log(a/(b*c),2)\n",
    "\n",
    "def pmi(features, labels, tgt_value=1, tgt_class=\">50K\"):\n",
    "    pmis = {}\n",
    "    \n",
    "    for i in range(len(features[0])):\n",
    "        pA, pC, pA_, pC_, pAC, pAC_, pA_C, pA_C_ = 0,0,0,0,0,0,0,0\n",
    "        \n",
    "        for j in range(len(features)):\n",
    "            if features[j][i] == 1:\n",
    "                pA = pA + 1\n",
    "            else:\n",
    "                pA_ = pA_ + 1\n",
    "            \n",
    "            if labels[j] == tgt_class:\n",
    "                pC = pC + 1\n",
    "            else:\n",
    "                pC_ = pC_ + 1\n",
    "            \n",
    "            if features[j][i] == 1 and labels[j] == tgt_class:\n",
    "                pAC = pAC + 1\n",
    "            elif features[j][i] == 1 and labels[j] != tgt_class:\n",
    "                pAC_ = pAC_ + 1\n",
    "            elif features[j][i] == 0 and labels[j] == tgt_class:\n",
    "                pA_C = pA_C + 1\n",
    "            elif features[j][i] == 0 and labels[j] != tgt_class:\n",
    "                pA_C_ = pA_C_ + 1\n",
    "        l = len(labels) \n",
    "        pA, pC, pA_, pC_, pAC, pAC_, pA_C, pA_C_ =  pA/l, pC/l, pA_/l, pC_/l, pAC/l, pAC_/l, pA_C/l, pA_C_/l            \n",
    "            \n",
    "        \n",
    "        term1 = pAC * calclog(pAC,pA,pC)\n",
    "        term2 = pA_C * calclog(pA_C,pA_,pC)\n",
    "        term3 = pA_C_ * calclog(pA_C_,pA_,pC_)\n",
    "        term4 = pAC_ * calclog(pAC_,pA,pC_)\n",
    "        \n",
    "        res = term1 + term2 + term3 + term4\n",
    "        pmis[i] = res\n",
    "          \n",
    "    \n",
    "    return pmis\n",
    "\n",
    "\n",
    "############################\n",
    "## your code ends here\n",
    "############################"
   ]
  },
  {
   "cell_type": "markdown",
   "metadata": {},
   "source": [
    "<b>For your testing:</b>"
   ]
  },
  {
   "cell_type": "code",
   "execution_count": 42,
   "metadata": {},
   "outputs": [],
   "source": [
    "test_features = [[1,1], [1,0], [0,1], [0,0]]\n",
    "test_labels = [1,1,0,0]\n",
    "test_pmi = pmi(test_features, test_labels, tgt_class=1)\n",
    "\n",
    "# where the index 0 refers to \"feature 1\" and index 1 refers to \"feature 2\"\n",
    "assert test_pmi[0]==1.0\n",
    "assert test_pmi[1]==0.0"
   ]
  },
  {
   "cell_type": "markdown",
   "metadata": {},
   "source": [
    "### 3b Create 1-R baseline [1 mark]\n",
    "\n",
    "- Apply your PMI function to the *1_hot feature representation* of training data, and determine the (i) 1-hot feature with *highest* PMI with class '>50K' () and (ii) 1-hot feature with *lowest* (most negative) PMI with class '>50K'. Store the name (string) of the corresponding highest/lowest PMI features in `highest_pmi_feature_name` and `lowest_pmi_feature_name`, respectively.\n",
    "\n",
    "- The feature with *highest* PMI will consitute your 1-R predictor, which you should use to predict the class labels for the test set (`one_r_predictions`)"
   ]
  },
  {
   "cell_type": "code",
   "execution_count": 43,
   "metadata": {},
   "outputs": [
    {
     "name": "stdout",
     "output_type": "stream",
     "text": [
      "['<=50K', '>50K', '>50K', '>50K', '<=50K', '<=50K', '<=50K', '>50K', '<=50K', '>50K']\n",
      "The feature with highest PMI for the class '>50K' is: Married-civ-spouse\n",
      "The feature with lowest PMI for the class '>50K' is: Scotland\n"
     ]
    }
   ],
   "source": [
    "one_r_predictions = []\n",
    "\n",
    "highest_pmi_feature_name = \"\" # feature with highest PMI\n",
    "lowest_pmi_feature_name = \"\" # feature with lowest PMI\n",
    "\n",
    "############################\n",
    "## your code begins here\n",
    "############################\n",
    "\n",
    "pmis = pmi(x_train_1hot, y_train, 1, '>50K')\n",
    "max_key = max(pmis, key=pmis.get)\n",
    "min_key = min(pmis, key=pmis.get)\n",
    "features = ohe.get_feature_names()\n",
    "highest_pmi_feature_name = features[max_key][4:]\n",
    "lowest_pmi_feature_name = features[min_key][4:]\n",
    "lis = [i[max_key] for i in x_test_1hot]\n",
    "for i in range(len(y_test)):\n",
    "    if lis[i] == 1:\n",
    "        one_r_predictions.append('>50K')\n",
    "    else:\n",
    "        one_r_predictions.append('<=50K')\n",
    "############################\n",
    "## your code ends here\n",
    "############################\n",
    "print(one_r_predictions[:10])\n",
    "print(f\"The feature with highest PMI for the class '>50K' is: {highest_pmi_feature_name}\")\n",
    "print(f\"The feature with lowest PMI for the class '>50K' is: {lowest_pmi_feature_name}\")"
   ]
  },
  {
   "cell_type": "markdown",
   "metadata": {},
   "source": [
    "## Question 4: Naive Bayes [3 marks]\n",
    "\n",
    "We will construct three Naive Bayes classifiers\n",
    "\n",
    "1. One for instances with only 1-hot encoded (binary) categorical attributes.\n",
    "2. One for instances with only numerical attributes.\n",
    "3. One for instances with the full set of numerical *and* categorical attributes, ensuring that your classifier computes posterior class probabilities $p(y|x)$ as $p(x|y)p(y)$.\n",
    "\n",
    "For each classifier, you will \n",
    "1. Train it on the training set\n",
    "2. Use the models to predict labels for the test set\n"
   ]
  },
  {
   "cell_type": "markdown",
   "metadata": {},
   "source": [
    "### 4a Implementing the Naive Bayes classifiers [1.5 marks]\n",
    "\n",
    "Implement three functions which train a NB classifier given the specified input feature types and predict labels for a given test set.\n",
    "\n",
    "You may add additional quantities to your `return` statements.\n",
    "\n",
    "<b> You may (and are, indeed, encouraged) to, use the existing NB implementations from `sklearn`. You should use the default parameterizations of these algorithms.</b> \n",
    "    \n",
    "If you choose to implement your classifiers from scratch, please use Laplace smoothing (alpha=1) for the categorical feature NB.\n"
   ]
  },
  {
   "cell_type": "code",
   "execution_count": 44,
   "metadata": {},
   "outputs": [],
   "source": [
    "##################################\n",
    "## your code begins here\n",
    "##################################\n",
    "from sklearn.naive_bayes import BernoulliNB\n",
    "from sklearn.naive_bayes import GaussianNB\n",
    "import numpy as np\n",
    "\n",
    "def nb_binary_features(train_features, train_labels, test_features):\n",
    "    predictions = []\n",
    "    model = BernoulliNB()\n",
    "    model.fit(train_features, train_labels)\n",
    "    predictions = model.predict(test_features)\n",
    "    return predictions\n",
    "\n",
    "\n",
    "def nb_continuous_features(train_features, train_labels, test_features):\n",
    "    predictions = []\n",
    "    model = GaussianNB()\n",
    "    model.fit(train_features, train_labels)\n",
    "    predictions = model.predict(test_features)\n",
    "    return predictions\n",
    "\n",
    "\n",
    "def nb_full(train_features, train_labels, test_features):    \n",
    "    predictions = []\n",
    "    model_b = BernoulliNB()\n",
    "    model_g = GaussianNB()\n",
    "    model_g.fit([i[0:6] for i in train_features], train_labels)\n",
    "    model_b.fit([i[6:] for i in train_features], train_labels)\n",
    "    \n",
    "    g_train_prob = model_g.predict_proba([i[0:6] for i in train_features])\n",
    "    b_train_prob = model_b.predict_proba([i[6:] for i in train_features])\n",
    "    \n",
    "    g_test_prob = model_g.predict_proba([i[0:6] for i in test_features])\n",
    "    b_test_prob = model_b.predict_proba([i[6:] for i in test_features])\n",
    "    \n",
    "    x_new_train = np.c_[(g_train_prob[:,1], b_train_prob[:,1])]\n",
    "    x_new_test = np.c_[(g_test_prob[:,1], b_test_prob[:,1])]\n",
    "    \n",
    "    model = GaussianNB()\n",
    "    \n",
    "    model.fit(x_new_train, train_labels)\n",
    "    predictions = model.predict(x_new_test)\n",
    "    \n",
    "    \n",
    "    return predictions\n",
    "\n",
    "\n",
    "\n",
    "############################\n",
    "## your code ends here\n",
    "############################"
   ]
  },
  {
   "cell_type": "markdown",
   "metadata": {},
   "source": [
    "### 4b Apply your classifiers to the data sets you created in Questions 1 and 3b [0.5 marks]\n",
    "\n",
    "...namely, the\n",
    "\n",
    "1. 1-hot categorical features `x_{train,test}_1hot`\n",
    "2. numerical features `x_{train,test}_num`\n",
    "3. combined numerical and 1-hot categorical features `x_{train,test}_full`\n"
   ]
  },
  {
   "cell_type": "code",
   "execution_count": 45,
   "metadata": {},
   "outputs": [
    {
     "name": "stdout",
     "output_type": "stream",
     "text": [
      "Numerical NB predicted class distribution \t Counter({'<=50K': 14440, '>50K': 1822})\n",
      "Categorical NB predicted class distribution\t Counter({'<=50K': 10046, '>50K': 6216})\n",
      "Full NB predicted class distribution\t Counter({'<=50K': 14427, '>50K': 1835})\n"
     ]
    }
   ],
   "source": [
    "from collections import Counter\n",
    "\n",
    "############################\n",
    "## your code begins here\n",
    "############################\n",
    "\n",
    "categorical_nb_predictions = nb_binary_features(x_train_1hot,y_train,x_test_1hot)\n",
    "numeric_nb_predictions = nb_continuous_features(x_train_num,y_train,x_test_num)\n",
    "full_nb_predictions = nb_full(x_train_full, y_train, x_test_full)\n",
    "\n",
    "\n",
    "############################\n",
    "## your code ends here\n",
    "############################\n",
    "\n",
    "print(f\"Numerical NB predicted class distribution \\t {Counter(numeric_nb_predictions)}\")\n",
    "print(f\"Categorical NB predicted class distribution\\t {Counter(categorical_nb_predictions)}\")\n",
    "print(f\"Full NB predicted class distribution\\t {Counter(full_nb_predictions)}\")\n"
   ]
  },
  {
   "cell_type": "markdown",
   "metadata": {},
   "source": [
    "\n",
    "### 4c Explain your Naive Bayes classifier implementation on the full attribute set (numerical and binary features). [1 mark]\n",
    "\n",
    "Please limit your answer to 2-3 sentences\n"
   ]
  },
  {
   "cell_type": "markdown",
   "metadata": {},
   "source": [
    "2 different models are trained. one on categorical values and the other on continuous values. We take prediction probablities from both the models and create new training and testing sets to train our model. Followed by applying Gaussian Naive Bayes"
   ]
  },
  {
   "cell_type": "markdown",
   "metadata": {},
   "source": [
    "## Question 5: Logistic Regression [2.5 marks]\n",
    "\n",
    "Apply a Logistic Regression classifier to the full training data set (`x_{train,test}_full`)\n",
    "\n",
    "<b> Use the existing implementation in sklearn with default parameters. </b>"
   ]
  },
  {
   "cell_type": "markdown",
   "metadata": {},
   "source": [
    "### 5a The Logistic Regression classifier [0.5 marks]"
   ]
  },
  {
   "cell_type": "code",
   "execution_count": 46,
   "metadata": {},
   "outputs": [
    {
     "name": "stdout",
     "output_type": "stream",
     "text": [
      "LR predicted class distribution\t Counter({'<=50K': 14859, '>50K': 1403})\n",
      "\n",
      "two feature with largest coefficent are Married-civ-spouse and capital-loss\n",
      "highest PMI feature was Married-civ-spouse\n",
      "\n",
      "Feature wise comparison of PMI and logistic regression coefficient\n",
      "[-75.54881746507685, 161.2003499967965, 3502.8424000289565, -14.15578015333011, 304.3118382312222, -27.133694011190155, -16.6577318882693, -123.73258306862262, -138.8841208483622, -111.53512055722535, -195.45682404906157, -172.74795745012045, -123.69689091223927, -145.71592491860577, -1.242857320401589, -4.8312164661908525, 221.4349523075634, 396.70665596620177, -51.1349901171243, 273.62523206410407, -264.8358703615745, 435.08300273004124, -22.49130345797348, -81.39668559020551, 303.76902443511256, 403.9084374098726, -107.99957271953946, -189.6960377644192, -127.85261976006417, -84.54666698811315, -75.54881746507685, -63.281681509818256, 131.13125409809572, -2.4554061986635256, 257.75847498026985, -59.33679838032789, -135.68693250875552, -67.91253403981217, -160.01998136399914, -204.97206687725367, 238.62615384853655, 102.04047794124052, -17.834144445630507, -652.040872600147, -14.269572580127564, 344.5309879302849, -94.11821763118427, -161.89768164456768, -225.53928392519688, -129.06677299527576, 217.17596474761578, -44.69095174373194, -6.6285453659479945, -86.89609587274555, -114.2933548400737, -22.736978769464965, -99.59450733890857, 2750.574459498191, -1.4947025013231026, 324.39317912394415, 117.80752044591345, -15.515780954310891, -203.74719220628484, 9.232058163326506, -207.18857896135353, -45.46833807126587, -126.64208106859745, 108.64864299311809, 125.60551601746965, -168.777407816686, -87.19449299194555, -203.81029240207025, -131.1105565298047, -172.96502121110566, -648.3248706904093, 1.6121210541694333, 184.14601624833466, 303.0130486000826, -21.236123437535074, 219.7756505922929, -113.4351887086024, 321.93421038651854, -89.50894316360882, -244.48270721142657, -234.48446832329708, -257.17905927214196, -87.90770364621388, -13.780810562886916, -83.44062602520934, -83.90398196072333, -0.2698856637698964, -7.449542640846072, 151.69541342292752, -31.802142109947365, -74.58296209547974, -2.7102255916812195, -108.81392915441374, 162.28063755161807]\n"
     ]
    }
   ],
   "source": [
    "from sklearn.linear_model import LogisticRegression\n",
    "\n",
    "lr_predictions = []\n",
    "\n",
    "############################\n",
    "## your code begins here\n",
    "############################\n",
    "x_full = x_train_full + x_test_full\n",
    "y_full = y_train + y_test\n",
    "model = LogisticRegression(random_state=0).fit(x_full,y_full)\n",
    "lr_predictions = model.predict(x_test_full)\n",
    "\n",
    "#########################5b#################\n",
    "coef = model.coef_\n",
    "compare = []\n",
    "val = list(pmis.values())\n",
    "for i in range(len(pmis)):\n",
    "    ans = val[i]/coef[0][i+6]\n",
    "    compare.append(ans)\n",
    "\n",
    "indexes = sorted(range(len(coef[0])), key = lambda sub: coef[0][sub])[-2:]\n",
    "full_features = [\"x_  age\",\"x_  fnlwgt\", \"x_  education-num\", \"x_  capital-gain\", \"x_  capital-loss\", \"x_  hours-per-week\"]\n",
    "for i in range(len(features)):\n",
    "    full_features.append(features[i])\n",
    "\n",
    "\n",
    "\n",
    "############################\n",
    "## your code ends here\n",
    "############################\n",
    "\n",
    "print(f\"LR predicted class distribution\\t {Counter(lr_predictions)}\\n\")\n",
    "\n",
    "##########################################5b#######################\n",
    "print(f\"two feature with largest coefficent are {full_features[indexes[0]][4:]} and {full_features[indexes[1]][4:]}\")\n",
    "print(f\"highest PMI feature was {highest_pmi_feature_name}\")\n",
    "print(\"\\nFeature wise comparison of PMI and logistic regression coefficient\")\n",
    "print(compare)"
   ]
  },
  {
   "cell_type": "markdown",
   "metadata": {},
   "source": [
    "### 5b Inspect the learnt coefficients [2 marks]\n",
    "\n",
    "**Part 1**\n",
    "Inspect the coefficients (weights) learnt by the classifier, and compare them to the PMI values in Question 1. You should update your code above in order to achieve this. Please indicate through comments which parts of the code are relevant to question 5b.\n",
    "\n",
    "**Part 2**\n",
    "What does a high coefficient for a feature imply? For which two features does your model learn the largest coefficients? Compare your answer to the highest PMI features you detected in Q3."
   ]
  },
  {
   "cell_type": "markdown",
   "metadata": {},
   "source": [
    "Coeffecient tells us about the correlation between the feature and the result. Higher the coefficient is, more likely the event is going to occur.\n",
    "\n",
    "For part 2, we can see that the highest PMI and the highest coefficient for logistic regression is the feature \"Married-civ-spouse\"\n"
   ]
  },
  {
   "cell_type": "markdown",
   "metadata": {},
   "source": [
    "## Question 6: Evaluation [1 mark]\n",
    "\n",
    "We will evaluate our baselines and classifiers on the instances in the test set. \n",
    "\n",
    "Compute \n",
    "- accuracy\n",
    "- macro-averaged F1 score \n",
    "\n",
    "for the two baselines, the three NB classifiers and the LR classifier.\n",
    "\n",
    "**You may use existing implementations and/or Python libraries like numpy, scipy or sklearn.**"
   ]
  },
  {
   "cell_type": "code",
   "execution_count": 50,
   "metadata": {},
   "outputs": [
    {
     "name": "stdout",
     "output_type": "stream",
     "text": [
      "Zero R\t\tAccuracy: 0.76\tMacro F1: 0.43\n",
      "One  R\t\tAccuracy: 0.71\tMacro F1: 0.68\n",
      "NB Num \t\tAccuracy: 0.8\tMacro F1: 0.64\n",
      "NB Cat \t\tAccuracy: 0.76\tMacro F1: 0.72\n",
      "NB Full \tAccuracy: 0.8\tMacro F1: 0.65\n",
      "LR \t\tAccuracy: 0.8\tMacro F1: 0.63\n"
     ]
    }
   ],
   "source": [
    "from sklearn.metrics import accuracy_score\n",
    "from sklearn.metrics import f1_score\n",
    "\n",
    "zero_r_acc = 0\n",
    "zero_r_f1 = 0\n",
    "\n",
    "one_r_acc = 0\n",
    "one_r_f1 = 0\n",
    "\n",
    "num_nb_acc = 0\n",
    "num_nb_f1 = 0\n",
    "\n",
    "cat_nb_acc = 0\n",
    "cat_nb_f1 = 0\n",
    "\n",
    "full_nb_acc = 0\n",
    "full_nb_f1 = 0\n",
    "\n",
    "lr_acc = 0\n",
    "lr_f1 = 0\n",
    "\n",
    "############################\n",
    "## your code begins here\n",
    "############################\n",
    "zero_r_acc = accuracy_score(y_test,zero_r_predictions)\n",
    "zero_r_f1 = f1_score(y_test,zero_r_predictions, average= 'macro')\n",
    "\n",
    "one_r_acc = accuracy_score(y_test,one_r_predictions)\n",
    "one_r_f1 = f1_score(y_test,one_r_predictions, average= 'macro')\n",
    "\n",
    "num_nb_acc = accuracy_score(y_test,numeric_nb_predictions)\n",
    "num_nb_f1 = f1_score(y_test,numeric_nb_predictions, average= 'macro')\n",
    "\n",
    "cat_nb_acc = accuracy_score(y_test,categorical_nb_predictions)\n",
    "cat_nb_f1 = f1_score(y_test,categorical_nb_predictions, average= 'macro')\n",
    "\n",
    "full_nb_acc = accuracy_score(y_test,full_nb_predictions)\n",
    "full_nb_f1 = f1_score(y_test,full_nb_predictions, average= 'macro')\n",
    "\n",
    "lr_acc = accuracy_score(y_test,lr_predictions)\n",
    "lr_f1 = f1_score(y_test,lr_predictions, average= 'macro')\n",
    "\n",
    "\n",
    "############################\n",
    "## your code ends here\n",
    "############################\n",
    "\n",
    "print(f\"Zero R\\t\\tAccuracy: {round(zero_r_acc, 2)}\\tMacro F1: {round(zero_r_f1, 2)}\")\n",
    "print(f\"One  R\\t\\tAccuracy: {round(one_r_acc, 2)}\\tMacro F1: {round(one_r_f1, 2)}\")\n",
    "print(f\"NB Num \\t\\tAccuracy: {round(num_nb_acc, 2)}\\tMacro F1: {round(num_nb_f1, 2)}\")\n",
    "print(f\"NB Cat \\t\\tAccuracy: {round(cat_nb_acc, 2)}\\tMacro F1: {round(cat_nb_f1, 2)}\")\n",
    "print(f\"NB Full \\tAccuracy: {round(full_nb_acc, 2)}\\tMacro F1: {round(full_nb_f1, 2)}\")\n",
    "print(f\"LR \\t\\tAccuracy: {round(lr_acc, 2)}\\tMacro F1: {round(lr_f1, 2)}\")"
   ]
  },
  {
   "cell_type": "markdown",
   "metadata": {},
   "source": [
    "## Question 7: Discussion [5 marks]\n",
    "\n",
    "Critically analyze the performance of the models by answering the following questions. \n",
    "\n",
    "**(a)** The three Naive Bayes (NB) classifiers lead to different performance. Which of the three NB classifiers performs best, and why do you think it is the case? **[1 mark]**\n",
    "\n",
    "**(b)** There is a systematic difference between Accuracy and F1 score, across all models. Describe and explain the difference in the context of the data set. **[1 mark]**\n",
    "\n",
    "**(c)** Assume that your best classifier will be deployed in a bank to decide whether a customer will be granted a loan, or not. A loan will be granted if the classifier predicts an income of \">50K\", othewise it won't. The bank manager wants to avoid falsely granting a loan to an applicant with insufficient income by all means. Can you reassure the bank manager with the evaluation results in Q7 that your classifier is adequate? If not, describe an alternative evaluation metric and explain why it is more appropriate.\n",
    "\n",
    "**(d)** Do you observe a clear difference in performance between NB and Logistic Regression (LR) in Q7? Referring to the number of parameters and assumptions underlying each model, provide one reason why NB might outperform LR, and one reason why LR might outperform NB. In your answer, refer back to the *Adult* data set used in this assignment. **[1 mark]**\n",
    "\n",
    "**(e)** Assume that you have access to a (hypothetical) infinitely large U.S. census database (i.e., an enormous version of the *Adult* data set used in this assignment). Is it true that Logistic Regression, but not Naive Bayes, will achieve perfect test set performance? Why (not)? **[1 mark]**\n",
    "\n",
    "<b>We expect a maximum of 2-3 sentences per questinon."
   ]
  },
  {
   "cell_type": "markdown",
   "metadata": {},
   "source": [
    "(a)The classifier which considers the full training set seems to perform the best. This can be because more features are used here and the features are handled differently according to their type(continuous/categorical) and then combined to train the model.\n",
    "\n",
    "\n",
    "(b)Accuracy is greater than F1 score all across. This indicates that class distribution is similar rather than imbalanced. With respect to the dataset, it can be said that true positives and true negatives are more important than false positives and false negatives.\n",
    "\n",
    "\n",
    "(c)On an averege, 8-10% loans are defaulted. Our prediction model is accurate upto 80%. This cannot be satisfactory. Another metric that can be used here is precision since it gives us the idea of how many correctly identified people were actually correct. \n",
    "\n",
    "\n",
    "(d)From the results, I do not see much of a difference between NB and LR classifiers. NB assumes that all feature classes are conditionally independent, and the results will be more accurate if this assumptions holds true. In our dataset, the features and not very dependent on each other and therefore NB might be effective over LR. If the size of the data is larger wrt to classes, LR is preffered over NB\n",
    "\n",
    "\n",
    "\n",
    "(e)It is true that Logistic regression will achieve perfect test performance and not Naive Bayes because of the algorithms' learning mechanism.\n",
    "Logistic Regression directly models the posterior probablity P(y|x) by learning the input to output mapping and minimizing the error. This is also called Discriminative model.\n",
    "Naive Bayes on the other hand follows Genarative model where it first models the joint distribution of input and output and then calculates the posterior probablity."
   ]
  },
  {
   "cell_type": "markdown",
   "metadata": {},
   "source": [
    "## Final thoughts ...\n",
    "\n",
    "Do you think it is ethical and safe to build and deploy income-level classifiers based on the set of attributes provided with the data set? Could such a classifier do harm if not developed, tested and deployed carefully?\n",
    "\n",
    "When predicting the income of a person, should demographic attributes like 'gender' or 'race' even be considered? Due to historical events there are systematic income differences between men/women and people of different ethnicities. But no doubt these are *correlations* and not factors to be used to *predict* income in the future. \n",
    "\n",
    "But ML models are only as good as their input data: a naively developed ML algorithm will reflect, and often amplify, biases in the data.\n",
    "\n",
    "In the last 1-2 weeks of this subject we will discuss ethics in machine learning and look at questions such as\n",
    "- historical artifacts which lead to biased data sets, and hence potentially biased ML algorithms\n",
    "- how to determine whether an algorithm is indeed biased\n",
    "- how to mitigate bias in the data and in algorithms\n",
    "\n"
   ]
  }
 ],
 "metadata": {
  "kernelspec": {
   "display_name": "Python 3",
   "language": "python",
   "name": "python3"
  },
  "language_info": {
   "codemirror_mode": {
    "name": "ipython",
    "version": 3
   },
   "file_extension": ".py",
   "mimetype": "text/x-python",
   "name": "python",
   "nbconvert_exporter": "python",
   "pygments_lexer": "ipython3",
   "version": "3.6.11"
  }
 },
 "nbformat": 4,
 "nbformat_minor": 4
}
